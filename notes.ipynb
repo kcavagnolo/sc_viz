{
 "cells": [
  {
   "cell_type": "markdown",
   "metadata": {
    "heading_collapsed": true
   },
   "source": [
    "# Imports"
   ]
  },
  {
   "cell_type": "code",
   "execution_count": 27,
   "metadata": {
    "collapsed": false
   },
   "outputs": [],
   "source": [
    "import datetime\n",
    "import matplotlib.pyplot as plt\n",
    "import networkx as nx\n",
    "import random\n",
    "import sys\n",
    "import os\n",
    "import pandas as pd\n",
    "\n",
    "try:\n",
    "    from urllib.parse import unquote # Python 3\n",
    "except ImportError:\n",
    "    from urllib import unquote       # Python 2\n",
    "\n",
    "import graphistry\n",
    "graphistry.register(key=os.environ.get('GRAPHISTRY_APIKEY'))"
   ]
  },
  {
   "cell_type": "code",
   "execution_count": 4,
   "metadata": {
    "collapsed": false
   },
   "outputs": [
    {
     "name": "stdout",
     "output_type": "stream",
     "text": [
      "Ken Cavagnolo \n",
      "Last updated: Thu Mar 03 2016 \n",
      "\n",
      "CPython 2.7.10\n",
      "IPython 4.0.3\n",
      "\n",
      "numpy 1.10.4\n",
      "scipy 0.17.0\n",
      "pandas 0.17.1\n",
      "seaborn 0.7.0\n",
      "graphistry 0.9.22\n",
      "\n",
      "compiler   : GCC 5.2.1 20151010\n",
      "system     : Linux\n",
      "release    : 4.2.0-23-generic\n",
      "machine    : x86_64\n",
      "processor  : x86_64\n",
      "CPU cores  : 4\n",
      "interpreter: 64bit\n",
      "host name  : ubuntu\n",
      "Git hash   : \n"
     ]
    }
   ],
   "source": [
    "%reload_ext watermark\n",
    "%watermark -a \"Ken Cavagnolo\" -n -u -v -m -h -g -p numpy,scipy,pandas,seaborn,graphistry"
   ]
  },
  {
   "cell_type": "markdown",
   "metadata": {
    "heading_collapsed": true
   },
   "source": [
    "# NetworkX Graph"
   ]
  },
  {
   "cell_type": "code",
   "execution_count": 28,
   "metadata": {
    "collapsed": false
   },
   "outputs": [],
   "source": [
    "# create graph\n",
    "G = nx.Graph()\n",
    "\n",
    "# add nodes\n",
    "G.add_node('S', time='10.21.2015')\n",
    "nodes = [str(random.getrandbits(128))[:2] for x in range(0,25)]\n",
    "G.add_nodes_from(nodes, time='10.21.2015')\n",
    "G.add_node('C', time='12.21.2015')\n",
    "G.add_nodes_from(nodes, time='12.21.2015')\n",
    "\n",
    "# add edges\n",
    "for n in G.nodes():\n",
    "    G.add_edge(n, 'S', weight=random.random())\n",
    "    G.add_edge('C', n, weight=random.random())\n",
    "    \n",
    "# remove self links\n",
    "G.remove_edge('S', 'C')"
   ]
  },
  {
   "cell_type": "markdown",
   "metadata": {},
   "source": [
    "# Pandas Graph"
   ]
  },
  {
   "cell_type": "code",
   "execution_count": 68,
   "metadata": {
    "collapsed": false
   },
   "outputs": [],
   "source": [
    "links = pd.read_csv('sc_random.csv', na_values=[''], parse_dates=['friend_date'])"
   ]
  },
  {
   "cell_type": "code",
   "execution_count": 69,
   "metadata": {
    "collapsed": false
   },
   "outputs": [
    {
     "data": {
      "text/html": [
       "<div>\n",
       "<table border=\"1\" class=\"dataframe\">\n",
       "  <thead>\n",
       "    <tr style=\"text-align: right;\">\n",
       "      <th></th>\n",
       "      <th>source</th>\n",
       "      <th>target</th>\n",
       "      <th>type</th>\n",
       "      <th>confidence</th>\n",
       "      <th>friend_date</th>\n",
       "      <th>friend_rank</th>\n",
       "    </tr>\n",
       "  </thead>\n",
       "  <tbody>\n",
       "    <tr>\n",
       "      <th>0</th>\n",
       "      <td>c</td>\n",
       "      <td>7592</td>\n",
       "      <td>random</td>\n",
       "      <td>0.719452</td>\n",
       "      <td>2016-02-05</td>\n",
       "      <td>13</td>\n",
       "    </tr>\n",
       "    <tr>\n",
       "      <th>1</th>\n",
       "      <td>c</td>\n",
       "      <td>2096</td>\n",
       "      <td>random</td>\n",
       "      <td>0.196215</td>\n",
       "      <td>2016-02-01</td>\n",
       "      <td>3</td>\n",
       "    </tr>\n",
       "    <tr>\n",
       "      <th>2</th>\n",
       "      <td>c</td>\n",
       "      <td>281</td>\n",
       "      <td>random</td>\n",
       "      <td>0.906925</td>\n",
       "      <td>2016-02-13</td>\n",
       "      <td>28</td>\n",
       "    </tr>\n",
       "    <tr>\n",
       "      <th>3</th>\n",
       "      <td>c</td>\n",
       "      <td>8938</td>\n",
       "      <td>random</td>\n",
       "      <td>0.902017</td>\n",
       "      <td>2016-02-01</td>\n",
       "      <td>25</td>\n",
       "    </tr>\n",
       "    <tr>\n",
       "      <th>4</th>\n",
       "      <td>c</td>\n",
       "      <td>2087</td>\n",
       "      <td>random</td>\n",
       "      <td>0.090682</td>\n",
       "      <td>2016-02-02</td>\n",
       "      <td>24</td>\n",
       "    </tr>\n",
       "  </tbody>\n",
       "</table>\n",
       "</div>"
      ],
      "text/plain": [
       "  source  target    type  confidence friend_date  friend_rank\n",
       "0      c    7592  random    0.719452  2016-02-05           13\n",
       "1      c    2096  random    0.196215  2016-02-01            3\n",
       "2      c     281  random    0.906925  2016-02-13           28\n",
       "3      c    8938  random    0.902017  2016-02-01           25\n",
       "4      c    2087  random    0.090682  2016-02-02           24"
      ]
     },
     "execution_count": 69,
     "metadata": {},
     "output_type": "execute_result"
    }
   ],
   "source": [
    "links.head()"
   ]
  },
  {
   "cell_type": "code",
   "execution_count": 70,
   "metadata": {
    "collapsed": false
   },
   "outputs": [],
   "source": [
    "#links[\"label\"] = links.weight.map(lambda v: \"Confidence: %s\" % ())\n",
    "links['label'] = links.source + '-->'+links.target.astype('str')\n",
    "#links.drop('weight', 1, inplace=True)\n",
    "links.friend_date = links.friend_date.astype('str')"
   ]
  },
  {
   "cell_type": "code",
   "execution_count": 71,
   "metadata": {
    "collapsed": false
   },
   "outputs": [
    {
     "data": {
      "text/html": [
       "<div>\n",
       "<table border=\"1\" class=\"dataframe\">\n",
       "  <thead>\n",
       "    <tr style=\"text-align: right;\">\n",
       "      <th></th>\n",
       "      <th>source</th>\n",
       "      <th>target</th>\n",
       "      <th>type</th>\n",
       "      <th>confidence</th>\n",
       "      <th>friend_date</th>\n",
       "      <th>friend_rank</th>\n",
       "      <th>label</th>\n",
       "    </tr>\n",
       "  </thead>\n",
       "  <tbody>\n",
       "    <tr>\n",
       "      <th>0</th>\n",
       "      <td>c</td>\n",
       "      <td>7592</td>\n",
       "      <td>random</td>\n",
       "      <td>0.719452</td>\n",
       "      <td>2016-02-05</td>\n",
       "      <td>13</td>\n",
       "      <td>c--&gt;7592</td>\n",
       "    </tr>\n",
       "    <tr>\n",
       "      <th>1</th>\n",
       "      <td>c</td>\n",
       "      <td>2096</td>\n",
       "      <td>random</td>\n",
       "      <td>0.196215</td>\n",
       "      <td>2016-02-01</td>\n",
       "      <td>3</td>\n",
       "      <td>c--&gt;2096</td>\n",
       "    </tr>\n",
       "    <tr>\n",
       "      <th>2</th>\n",
       "      <td>c</td>\n",
       "      <td>281</td>\n",
       "      <td>random</td>\n",
       "      <td>0.906925</td>\n",
       "      <td>2016-02-13</td>\n",
       "      <td>28</td>\n",
       "      <td>c--&gt;281</td>\n",
       "    </tr>\n",
       "    <tr>\n",
       "      <th>3</th>\n",
       "      <td>c</td>\n",
       "      <td>8938</td>\n",
       "      <td>random</td>\n",
       "      <td>0.902017</td>\n",
       "      <td>2016-02-01</td>\n",
       "      <td>25</td>\n",
       "      <td>c--&gt;8938</td>\n",
       "    </tr>\n",
       "    <tr>\n",
       "      <th>4</th>\n",
       "      <td>c</td>\n",
       "      <td>2087</td>\n",
       "      <td>random</td>\n",
       "      <td>0.090682</td>\n",
       "      <td>2016-02-02</td>\n",
       "      <td>24</td>\n",
       "      <td>c--&gt;2087</td>\n",
       "    </tr>\n",
       "  </tbody>\n",
       "</table>\n",
       "</div>"
      ],
      "text/plain": [
       "  source  target    type  confidence friend_date  friend_rank     label\n",
       "0      c    7592  random    0.719452  2016-02-05           13  c-->7592\n",
       "1      c    2096  random    0.196215  2016-02-01            3  c-->2096\n",
       "2      c     281  random    0.906925  2016-02-13           28   c-->281\n",
       "3      c    8938  random    0.902017  2016-02-01           25  c-->8938\n",
       "4      c    2087  random    0.090682  2016-02-02           24  c-->2087"
      ]
     },
     "execution_count": 71,
     "metadata": {},
     "output_type": "execute_result"
    }
   ],
   "source": [
    "links.head()"
   ]
  },
  {
   "cell_type": "markdown",
   "metadata": {
    "heading_collapsed": true
   },
   "source": [
    "# Matplotlib"
   ]
  },
  {
   "cell_type": "code",
   "execution_count": null,
   "metadata": {
    "collapsed": true
   },
   "outputs": [],
   "source": [
    "elarge = [(u,v) for (u,v,d) in G.edges(data=True) if d['weight'] >0.5]\n",
    "esmall = [(u,v) for (u,v,d) in G.edges(data=True) if d['weight'] <=0.5]\n",
    "\n",
    "pos = nx.spring_layout(G) # positions for all nodes\n",
    "\n",
    "# nodes\n",
    "nx.draw_networkx_nodes(G,pos,node_size=700)\n",
    "\n",
    "# edges\n",
    "nx.draw_networkx_edges(G,pos,edgelist=elarge,\n",
    "                    width=6)\n",
    "nx.draw_networkx_edges(G,pos,edgelist=esmall,\n",
    "                    width=6,alpha=0.5,edge_color='b',style='dashed')\n",
    "\n",
    "# labels\n",
    "nx.draw_networkx_labels(G,pos,font_size=20,font_family='sans-serif')\n",
    "\n",
    "plt.axis('off')\n",
    "plt.savefig(\"weighted_graph.png\")\n",
    "plt.show()"
   ]
  },
  {
   "cell_type": "markdown",
   "metadata": {},
   "source": [
    "# Graphistry"
   ]
  },
  {
   "cell_type": "code",
   "execution_count": 72,
   "metadata": {
    "collapsed": false,
    "scrolled": false
   },
   "outputs": [
    {
     "data": {
      "text/html": [
       "<iframe id=\"24b49f24-48d2-48c2-8342-7c7d47b71063\"\n",
       "                        style=\"display:none; width:100%; height:500px; border: 1px solid #DDD\">\n",
       "                </iframe><script>var p = document.location.protocol;\n",
       "                        if(p === \"file:\") {p = \"http:\";}\n",
       "                        $(\"#24b49f24-48d2-48c2-8342-7c7d47b71063\").attr(\"src\", p + \"//proxy-labs.graphistry.com/graph/graph.html?dataset=PyGraphistry/R0FV2RFM1P&type=vgraph&viztoken=2763658f51ddc0c5f388ecb09008bd50743d4625&usertag=9882c7f1-pygraphistry-0.9.22&splashAfter=1457023456&info=true\").show();\n",
       "                </script><script>\n",
       "            $(\"#24b49f24-48d2-48c2-8342-7c7d47b71063\").bind('mousewheel', function(e) {\n",
       "                e.preventDefault();\n",
       "            });\n",
       "        </script>"
      ],
      "text/plain": [
       "<IPython.core.display.HTML object>"
      ]
     },
     "execution_count": 72,
     "metadata": {},
     "output_type": "execute_result"
    }
   ],
   "source": [
    "plotter = graphistry.bind(source='source', destination='target',\n",
    "                          node='nodeid', edge_title=\"label\")\n",
    "plotter.plot(links)"
   ]
  },
  {
   "cell_type": "markdown",
   "metadata": {},
   "source": [
    "# Communities"
   ]
  },
  {
   "cell_type": "code",
   "execution_count": 19,
   "metadata": {
    "collapsed": false
   },
   "outputs": [
    {
     "name": "stdout",
     "output_type": "stream",
     "text": [
      "IGRAPH D-W- 40 60 -- \n",
      "+ attr: __nodeid__ (v), friend_date (e), friend_rank (e), label (e), type (e), weight (e)\n"
     ]
    }
   ],
   "source": [
    "# Convert our graph from Pandas to Igraph\n",
    "import igraph\n",
    "ig = plotter.pandas2igraph(links)\n",
    "igraph.summary(ig)\n",
    "\n",
    "# We create two node attributes for pagerank and community\n",
    "ig.vs['pagerank'] = ig.pagerank()\n",
    "ig.vs['community'] = ig.community_infomap().membership \n",
    "igraph.summary(ig)"
   ]
  },
  {
   "cell_type": "code",
   "execution_count": null,
   "metadata": {
    "collapsed": false
   },
   "outputs": [],
   "source": [
    "plotter.bind(point_color='community', point_size='pagerank').plot(ig)"
   ]
  },
  {
   "cell_type": "code",
   "execution_count": null,
   "metadata": {
    "collapsed": true
   },
   "outputs": [],
   "source": []
  }
 ],
 "metadata": {
  "kernelspec": {
   "display_name": "Python 2",
   "language": "python",
   "name": "python2"
  },
  "language_info": {
   "codemirror_mode": {
    "name": "ipython",
    "version": 2
   },
   "file_extension": ".py",
   "mimetype": "text/x-python",
   "name": "python",
   "nbconvert_exporter": "python",
   "pygments_lexer": "ipython2",
   "version": "2.7.10"
  }
 },
 "nbformat": 4,
 "nbformat_minor": 0
}
